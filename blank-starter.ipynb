{
 "cells": [
  {
   "cell_type": "code",
   "execution_count": 2,
   "metadata": {
    "executionInfo": {
     "elapsed": 4688,
     "status": "ok",
     "timestamp": 1610224881604,
     "user": {
      "displayName": "Aman Kumar",
      "photoUrl": "https://lh3.googleusercontent.com/a-/AOh14GgwJ7p76soPZGsLWEkpHlD0LmMqnfJ0ep5y4zeGHw=s64",
      "userId": "01659209315995026941"
     },
     "user_tz": -330
    },
    "id": "9kCLPhPRv21I"
   },
   "outputs": [],
   "source": [
    "import os\r\n",
    "import torch\r\n",
    "import torchvision\r\n",
    "import tarfile\r\n",
    "from torchvision.datasets.utils import download_url\r\n",
    "from torch.utils.data import random_split"
   ]
  },
  {
   "cell_type": "markdown",
   "metadata": {
    "id": "pOpp36mJAVEy"
   },
   "source": [
    "# Cifar 100 Dataset\r\n",
    "using the cifar100 dataset for image classificaiton\r\n",
    "CIFAR-10 dataset has 100 classes containing 600 images each. There are 500 training images and 100 testing images per class. The 100 classes in the CIFAR-100 are grouped into 20 superclasses. Each image comes with a \"fine\" label (the class to which it belongs) and a \"coarse\" label (the superclass to which it belongs)."
   ]
  },
  {
   "cell_type": "code",
   "execution_count": 3,
   "metadata": {
    "executionInfo": {
     "elapsed": 1126,
     "status": "ok",
     "timestamp": 1610224883549,
     "user": {
      "displayName": "Aman Kumar",
      "photoUrl": "https://lh3.googleusercontent.com/a-/AOh14GgwJ7p76soPZGsLWEkpHlD0LmMqnfJ0ep5y4zeGHw=s64",
      "userId": "01659209315995026941"
     },
     "user_tz": -330
    },
    "id": "djl5DkuwwOuU"
   },
   "outputs": [],
   "source": [
    "project_name = 'cifar100-dataset-project'"
   ]
  },
  {
   "cell_type": "code",
   "execution_count": 4,
   "metadata": {
    "colab": {
     "base_uri": "https://localhost:8080/",
     "height": 66,
     "referenced_widgets": [
      "ca36c6f4b9244197a701061392f64669",
      "91112aca966848abad4616bb972b0d28",
      "f3feb908dbc44a96bd12ab02e90daf5c",
      "cf0044e165744f1699bad74887f770a1",
      "f2bef722d80745c18f596edb7dee8c53",
      "980167977d794e8b859980647b1519dd",
      "f6695d61a9eb4840b9f12227a6c9fbb6",
      "a706c9bfe9d94a91ad7af42c801a6f4f"
     ]
    },
    "executionInfo": {
     "elapsed": 5190,
     "status": "ok",
     "timestamp": 1610224889690,
     "user": {
      "displayName": "Aman Kumar",
      "photoUrl": "https://lh3.googleusercontent.com/a-/AOh14GgwJ7p76soPZGsLWEkpHlD0LmMqnfJ0ep5y4zeGHw=s64",
      "userId": "01659209315995026941"
     },
     "user_tz": -330
    },
    "id": "gSNcdVkwwWUO",
    "outputId": "7b858363-488f-4a8a-98ca-a10055c7edc5"
   },
   "outputs": [
    {
     "name": "stdout",
     "output_type": "stream",
     "text": [
      "Downloading https://s3.amazonaws.com/fast-ai-imageclas/cifar100.tgz to ./cifar100.tgz\n"
     ]
    },
    {
     "data": {
      "application/vnd.jupyter.widget-view+json": {
       "model_id": "ca36c6f4b9244197a701061392f64669",
       "version_major": 2,
       "version_minor": 0
      },
      "text/plain": [
       "HBox(children=(FloatProgress(value=1.0, bar_style='info', max=1.0), HTML(value='')))"
      ]
     },
     "metadata": {
      "tags": []
     },
     "output_type": "display_data"
    }
   ],
   "source": [
    "#downloading the dataset\r\n",
    "dataset_url = 'https://s3.amazonaws.com/fast-ai-imageclas/cifar100.tgz'\r\n",
    "download_url(dataset_url,'.')"
   ]
  },
  {
   "cell_type": "code",
   "execution_count": 5,
   "metadata": {
    "colab": {
     "base_uri": "https://localhost:8080/"
    },
    "executionInfo": {
     "elapsed": 14648,
     "status": "ok",
     "timestamp": 1610224907603,
     "user": {
      "displayName": "Aman Kumar",
      "photoUrl": "https://lh3.googleusercontent.com/a-/AOh14GgwJ7p76soPZGsLWEkpHlD0LmMqnfJ0ep5y4zeGHw=s64",
      "userId": "01659209315995026941"
     },
     "user_tz": -330
    },
    "id": "W-usy1js_sqG",
    "outputId": "de623ec6-6ff1-4741-f09b-52aa23fa0bd9"
   },
   "outputs": [
    {
     "name": "stdout",
     "output_type": "stream",
     "text": [
      "\n"
     ]
    }
   ],
   "source": [
    "with tarfile.open('./cifar100.tgz','r:gz') as tar:\r\n",
    "  tar.extractall(path = './data')"
   ]
  },
  {
   "cell_type": "code",
   "execution_count": 6,
   "metadata": {
    "executionInfo": {
     "elapsed": 1111,
     "status": "ok",
     "timestamp": 1610224909400,
     "user": {
      "displayName": "Aman Kumar",
      "photoUrl": "https://lh3.googleusercontent.com/a-/AOh14GgwJ7p76soPZGsLWEkpHlD0LmMqnfJ0ep5y4zeGHw=s64",
      "userId": "01659209315995026941"
     },
     "user_tz": -330
    },
    "id": "FuQM_Y-4AD5f"
   },
   "outputs": [],
   "source": [
    "data_dir = './data/cifar100'"
   ]
  },
  {
   "cell_type": "code",
   "execution_count": 7,
   "metadata": {
    "colab": {
     "base_uri": "https://localhost:8080/"
    },
    "executionInfo": {
     "elapsed": 1096,
     "status": "ok",
     "timestamp": 1610224921954,
     "user": {
      "displayName": "Aman Kumar",
      "photoUrl": "https://lh3.googleusercontent.com/a-/AOh14GgwJ7p76soPZGsLWEkpHlD0LmMqnfJ0ep5y4zeGHw=s64",
      "userId": "01659209315995026941"
     },
     "user_tz": -330
    },
    "id": "ys19ET3hAL5M",
    "outputId": "7369d12d-7fc1-4c13-e22f-5bc907bbe908"
   },
   "outputs": [
    {
     "name": "stdout",
     "output_type": "stream",
     "text": [
      "['train', 'test']\n"
     ]
    }
   ],
   "source": [
    "print(os.listdir(data_dir))"
   ]
  },
  {
   "cell_type": "code",
   "execution_count": 8,
   "metadata": {
    "colab": {
     "base_uri": "https://localhost:8080/"
    },
    "executionInfo": {
     "elapsed": 1107,
     "status": "ok",
     "timestamp": 1610224924512,
     "user": {
      "displayName": "Aman Kumar",
      "photoUrl": "https://lh3.googleusercontent.com/a-/AOh14GgwJ7p76soPZGsLWEkpHlD0LmMqnfJ0ep5y4zeGHw=s64",
      "userId": "01659209315995026941"
     },
     "user_tz": -330
    },
    "id": "lGS8IAw1BBFB",
    "outputId": "e8736540-e807-4c9c-8769-3b9c9a735446"
   },
   "outputs": [
    {
     "name": "stdout",
     "output_type": "stream",
     "text": [
      "['large_carnivores', 'large_natural_outdoor_scenes', 'large_omnivores_and_herbivores', 'flowers', 'medium_mammals', 'vehicles_1', 'vehicles_2', 'reptiles', 'aquatic_mammals', 'small_mammals', 'large_man-made_outdoor_things', 'trees', 'people', 'food_containers', 'household_furniture', 'insects', 'household_electrical_devices', 'fruit_and_vegetables', 'fish', 'non-insect_invertebrates']\n"
     ]
    }
   ],
   "source": [
    "superclasses = os.listdir(data_dir + \"/train\")\r\n",
    "print(superclasses)"
   ]
  },
  {
   "cell_type": "markdown",
   "metadata": {
    "id": "FxLwoUtsDqsV"
   },
   "source": [
    "number of classes indide super class fish\r\n"
   ]
  },
  {
   "cell_type": "code",
   "execution_count": 9,
   "metadata": {
    "colab": {
     "base_uri": "https://localhost:8080/"
    },
    "executionInfo": {
     "elapsed": 1099,
     "status": "ok",
     "timestamp": 1610224927307,
     "user": {
      "displayName": "Aman Kumar",
      "photoUrl": "https://lh3.googleusercontent.com/a-/AOh14GgwJ7p76soPZGsLWEkpHlD0LmMqnfJ0ep5y4zeGHw=s64",
      "userId": "01659209315995026941"
     },
     "user_tz": -330
    },
    "id": "-96oYI92BiRw",
    "outputId": "2e95e48f-56e2-4f5c-d924-211723e120fd"
   },
   "outputs": [
    {
     "name": "stdout",
     "output_type": "stream",
     "text": [
      "['aquarium_fish', 'trout', 'ray', 'flatfish', 'shark']\n"
     ]
    }
   ],
   "source": [
    "classes = os.listdir(data_dir + \"/train/fish\" )\r\n",
    "print(classes)"
   ]
  },
  {
   "cell_type": "code",
   "execution_count": 10,
   "metadata": {
    "executionInfo": {
     "elapsed": 1103,
     "status": "ok",
     "timestamp": 1610224931268,
     "user": {
      "displayName": "Aman Kumar",
      "photoUrl": "https://lh3.googleusercontent.com/a-/AOh14GgwJ7p76soPZGsLWEkpHlD0LmMqnfJ0ep5y4zeGHw=s64",
      "userId": "01659209315995026941"
     },
     "user_tz": -330
    },
    "id": "fHH1NOtkD6sJ"
   },
   "outputs": [],
   "source": [
    "from torchvision.datasets import ImageFolder\r\n",
    "from torchvision.transforms import ToTensor"
   ]
  },
  {
   "cell_type": "code",
   "execution_count": 11,
   "metadata": {
    "executionInfo": {
     "elapsed": 1241,
     "status": "ok",
     "timestamp": 1610224933082,
     "user": {
      "displayName": "Aman Kumar",
      "photoUrl": "https://lh3.googleusercontent.com/a-/AOh14GgwJ7p76soPZGsLWEkpHlD0LmMqnfJ0ep5y4zeGHw=s64",
      "userId": "01659209315995026941"
     },
     "user_tz": -330
    },
    "id": "WoCoHgqKEH_o"
   },
   "outputs": [],
   "source": [
    "dataset = ImageFolder(data_dir+\"/train\", transform = ToTensor())"
   ]
  },
  {
   "cell_type": "code",
   "execution_count": 12,
   "metadata": {
    "colab": {
     "base_uri": "https://localhost:8080/"
    },
    "executionInfo": {
     "elapsed": 1138,
     "status": "ok",
     "timestamp": 1610224934777,
     "user": {
      "displayName": "Aman Kumar",
      "photoUrl": "https://lh3.googleusercontent.com/a-/AOh14GgwJ7p76soPZGsLWEkpHlD0LmMqnfJ0ep5y4zeGHw=s64",
      "userId": "01659209315995026941"
     },
     "user_tz": -330
    },
    "id": "seb8DmXzEWrM",
    "outputId": "e1e98700-1691-4e20-a2ad-4f4a32331ea0"
   },
   "outputs": [
    {
     "name": "stdout",
     "output_type": "stream",
     "text": [
      "torch.Size([3, 32, 32]) 0\n"
     ]
    },
    {
     "data": {
      "text/plain": [
       "tensor([[[0.6196, 0.6431, 0.6392,  ..., 0.5843, 0.5451, 0.4941],\n",
       "         [0.6039, 0.6353, 0.6353,  ..., 0.5843, 0.5490, 0.4980],\n",
       "         [0.6078, 0.6431, 0.6431,  ..., 0.5804, 0.5490, 0.5020],\n",
       "         ...,\n",
       "         [0.7059, 0.7216, 0.6863,  ..., 0.8549, 0.8471, 0.7961],\n",
       "         [0.8902, 0.8667, 0.7804,  ..., 0.9569, 0.9647, 0.9451],\n",
       "         [0.9804, 0.9647, 0.9098,  ..., 0.9843, 0.9843, 0.9451]],\n",
       "\n",
       "        [[0.6314, 0.6745, 0.6863,  ..., 0.5804, 0.5490, 0.5137],\n",
       "         [0.6275, 0.6824, 0.6902,  ..., 0.5922, 0.5647, 0.5294],\n",
       "         [0.6353, 0.6902, 0.6980,  ..., 0.5961, 0.5765, 0.5333],\n",
       "         ...,\n",
       "         [0.7608, 0.7804, 0.7490,  ..., 0.8745, 0.8706, 0.8196],\n",
       "         [0.9216, 0.9059, 0.8275,  ..., 0.9725, 0.9765, 0.9647],\n",
       "         [0.9922, 0.9804, 0.9333,  ..., 0.9922, 0.9922, 0.9608]],\n",
       "\n",
       "        [[0.3922, 0.3843, 0.3765,  ..., 0.3725, 0.3451, 0.3255],\n",
       "         [0.3843, 0.3843, 0.3765,  ..., 0.3725, 0.3529, 0.3294],\n",
       "         [0.3765, 0.3843, 0.3765,  ..., 0.3765, 0.3686, 0.3412],\n",
       "         ...,\n",
       "         [0.8275, 0.8627, 0.8314,  ..., 0.8980, 0.8902, 0.8353],\n",
       "         [0.9255, 0.9294, 0.8863,  ..., 0.9569, 0.9608, 0.9569],\n",
       "         [0.9608, 0.9569, 0.9333,  ..., 0.9765, 0.9765, 0.9608]]])"
      ]
     },
     "execution_count": 12,
     "metadata": {
      "tags": []
     },
     "output_type": "execute_result"
    }
   ],
   "source": [
    "img, label = dataset[0]\r\n",
    "print(img.shape, label)\r\n",
    "img"
   ]
  },
  {
   "cell_type": "code",
   "execution_count": 13,
   "metadata": {
    "colab": {
     "base_uri": "https://localhost:8080/"
    },
    "executionInfo": {
     "elapsed": 1065,
     "status": "ok",
     "timestamp": 1610224937782,
     "user": {
      "displayName": "Aman Kumar",
      "photoUrl": "https://lh3.googleusercontent.com/a-/AOh14GgwJ7p76soPZGsLWEkpHlD0LmMqnfJ0ep5y4zeGHw=s64",
      "userId": "01659209315995026941"
     },
     "user_tz": -330
    },
    "id": "eb0FoU9HErHr",
    "outputId": "cb52db13-9ddc-4089-d1fc-a7ebd5472f76"
   },
   "outputs": [
    {
     "name": "stdout",
     "output_type": "stream",
     "text": [
      "['aquatic_mammals', 'fish', 'flowers', 'food_containers', 'fruit_and_vegetables', 'household_electrical_devices', 'household_furniture', 'insects', 'large_carnivores', 'large_man-made_outdoor_things', 'large_natural_outdoor_scenes', 'large_omnivores_and_herbivores', 'medium_mammals', 'non-insect_invertebrates', 'people', 'reptiles', 'small_mammals', 'trees', 'vehicles_1', 'vehicles_2']\n"
     ]
    }
   ],
   "source": [
    "print(dataset.classes)"
   ]
  },
  {
   "cell_type": "code",
   "execution_count": 14,
   "metadata": {
    "executionInfo": {
     "elapsed": 1086,
     "status": "ok",
     "timestamp": 1610224940232,
     "user": {
      "displayName": "Aman Kumar",
      "photoUrl": "https://lh3.googleusercontent.com/a-/AOh14GgwJ7p76soPZGsLWEkpHlD0LmMqnfJ0ep5y4zeGHw=s64",
      "userId": "01659209315995026941"
     },
     "user_tz": -330
    },
    "id": "E5ujP82MFANg"
   },
   "outputs": [],
   "source": [
    "import matplotlib\r\n",
    "import matplotlib.pyplot as plt\r\n",
    "%matplotlib inline\r\n",
    "\r\n",
    "matplotlib.rcParams['figure.facecolor'] = '#ffffff'"
   ]
  },
  {
   "cell_type": "code",
   "execution_count": 15,
   "metadata": {
    "executionInfo": {
     "elapsed": 1095,
     "status": "ok",
     "timestamp": 1610224942196,
     "user": {
      "displayName": "Aman Kumar",
      "photoUrl": "https://lh3.googleusercontent.com/a-/AOh14GgwJ7p76soPZGsLWEkpHlD0LmMqnfJ0ep5y4zeGHw=s64",
      "userId": "01659209315995026941"
     },
     "user_tz": -330
    },
    "id": "MU7yrnyyFHsm"
   },
   "outputs": [],
   "source": [
    "def show_example(img, label):\r\n",
    "    print('Label: ', dataset.classes[label], \"(\"+str(label)+\")\")\r\n",
    "    plt.imshow(img.permute(1, 2, 0))"
   ]
  },
  {
   "cell_type": "markdown",
   "metadata": {
    "id": "LuA8hFaOGTJg"
   },
   "source": [
    "Example image from dataset"
   ]
  },
  {
   "cell_type": "code",
   "execution_count": 19,
   "metadata": {
    "colab": {
     "base_uri": "https://localhost:8080/",
     "height": 283
    },
    "executionInfo": {
     "elapsed": 1160,
     "status": "ok",
     "timestamp": 1610224957183,
     "user": {
      "displayName": "Aman Kumar",
      "photoUrl": "https://lh3.googleusercontent.com/a-/AOh14GgwJ7p76soPZGsLWEkpHlD0LmMqnfJ0ep5y4zeGHw=s64",
      "userId": "01659209315995026941"
     },
     "user_tz": -330
    },
    "id": "Acwb9bA5FxwR",
    "outputId": "534a90a6-1a95-42dd-85e6-535ff42e8eaa"
   },
   "outputs": [
    {
     "name": "stdout",
     "output_type": "stream",
     "text": [
      "Label:  aquatic_mammals (0)\n"
     ]
    },
    {
     "data": {
      "image/png": "[encoded data removed]",
      "text/plain": [
       "<Figure size 432x288 with 1 Axes>"
      ]
     },
     "metadata": {
      "tags": []
     },
     "output_type": "display_data"
    }
   ],
   "source": [
    "show_example(*dataset[70])"
   ]
  },
  {
   "cell_type": "code",
   "execution_count": 20,
   "metadata": {
    "executionInfo": {
     "elapsed": 1113,
     "status": "ok",
     "timestamp": 1610224961330,
     "user": {
      "displayName": "Aman Kumar",
      "photoUrl": "https://lh3.googleusercontent.com/a-/AOh14GgwJ7p76soPZGsLWEkpHlD0LmMqnfJ0ep5y4zeGHw=s64",
      "userId": "01659209315995026941"
     },
     "user_tz": -330
    },
    "id": "cQ9AmBZnGg3o"
   },
   "outputs": [],
   "source": [
    "random_seed = 26\r\n",
    "torch.manual_seed(random_seed);"
   ]
  },
  {
   "cell_type": "markdown",
   "metadata": {
    "id": "3gtkI1pWHgOf"
   },
   "source": [
    "since there is no validation layer hence here we devide this dataset of of 50,000 elements in validation and training sizes of 10,000 and 40,000 resp\r\n"
   ]
  },
  {
   "cell_type": "code",
   "execution_count": 21,
   "metadata": {
    "executionInfo": {
     "elapsed": 1109,
     "status": "ok",
     "timestamp": 1610224963149,
     "user": {
      "displayName": "Aman Kumar",
      "photoUrl": "https://lh3.googleusercontent.com/a-/AOh14GgwJ7p76soPZGsLWEkpHlD0LmMqnfJ0ep5y4zeGHw=s64",
      "userId": "01659209315995026941"
     },
     "user_tz": -330
    },
    "id": "mmV1bXYEGg0b"
   },
   "outputs": [],
   "source": [
    "validation_size = 10000\r\n",
    "training_size = len(dataset) - validation_size\r\n",
    "\r\n",
    "training_ds, validation_ds = random_split(dataset, [training_size, validation_size])"
   ]
  },
  {
   "cell_type": "markdown",
   "metadata": {
    "id": "ZJkricZkIA75"
   },
   "source": [
    "now just taking note of the metrics\r\n"
   ]
  },
  {
   "cell_type": "code",
   "execution_count": 22,
   "metadata": {
    "colab": {
     "base_uri": "https://localhost:8080/"
    },
    "executionInfo": {
     "elapsed": 14817,
     "status": "ok",
     "timestamp": 1610224978538,
     "user": {
      "displayName": "Aman Kumar",
      "photoUrl": "https://lh3.googleusercontent.com/a-/AOh14GgwJ7p76soPZGsLWEkpHlD0LmMqnfJ0ep5y4zeGHw=s64",
      "userId": "01659209315995026941"
     },
     "user_tz": -330
    },
    "id": "F4-bIjWQGgim",
    "outputId": "0f67f36b-9c7b-445c-df73-6180c078644a"
   },
   "outputs": [
    {
     "name": "stdout",
     "output_type": "stream",
     "text": [
      "[jovian] Please enter your API key ( from https://jovian.ai/ ):\u001b[0m\n",
      "API KEY: ··········\n",
      "[jovian] Dataset logged.\u001b[0m\n"
     ]
    }
   ],
   "source": [
    "jovian.log_dataset(dataset_url=dataset_url, validation_size=validation_size, random_seed=random_seed)"
   ]
  },
  {
   "cell_type": "markdown",
   "metadata": {
    "id": "sw6V-3wxIa6b"
   },
   "source": [
    "now creating training and validation dataloaders\r\n"
   ]
  },
  {
   "cell_type": "code",
   "execution_count": 23,
   "metadata": {
    "executionInfo": {
     "elapsed": 1085,
     "status": "ok",
     "timestamp": 1610224981582,
     "user": {
      "displayName": "Aman Kumar",
      "photoUrl": "https://lh3.googleusercontent.com/a-/AOh14GgwJ7p76soPZGsLWEkpHlD0LmMqnfJ0ep5y4zeGHw=s64",
      "userId": "01659209315995026941"
     },
     "user_tz": -330
    },
    "id": "rlsCpGySIefU"
   },
   "outputs": [],
   "source": [
    "from torch.utils.data.dataloader import DataLoader\r\n",
    "batch_size = 128\r\n",
    "\r\n",
    "training_dl = DataLoader(training_ds, batch_size, shuffle=True, num_workers=4, pin_memory=True)\r\n",
    "validation_dl = DataLoader(validation_ds, batch_size*2, num_workers=4, pin_memory=True)"
   ]
  },
  {
   "cell_type": "markdown",
   "metadata": {
    "id": "gPlbEue3MEYM"
   },
   "source": [
    "Using CNN to make model more accurate\r\n"
   ]
  },
  {
   "cell_type": "code",
   "execution_count": 24,
   "metadata": {
    "executionInfo": {
     "elapsed": 1126,
     "status": "ok",
     "timestamp": 1610224983756,
     "user": {
      "displayName": "Aman Kumar",
      "photoUrl": "https://lh3.googleusercontent.com/a-/AOh14GgwJ7p76soPZGsLWEkpHlD0LmMqnfJ0ep5y4zeGHw=s64",
      "userId": "01659209315995026941"
     },
     "user_tz": -330
    },
    "id": "_rN9SE_QIfCb"
   },
   "outputs": [],
   "source": [
    "def apply_kernel(image, kernel):\r\n",
    "    ri, ci = image.shape       # for image\r\n",
    "    rk, ck = kernel.shape      # for kernel\r\n",
    "    ro, co = ri-rk+1, ci-ck+1  # for output my multiplying image matrix with kernel then adding all values\r\n",
    "    output = torch.zeros([ro, co])\r\n",
    "    for i in range(ro): \r\n",
    "        for j in range(co):\r\n",
    "            output[i,j] = torch.sum(image[i:i+rk,j:j+ck] * kernel)\r\n",
    "    return output"
   ]
  },
  {
   "cell_type": "code",
   "execution_count": 25,
   "metadata": {
    "executionInfo": {
     "elapsed": 1170,
     "status": "ok",
     "timestamp": 1610224985799,
     "user": {
      "displayName": "Aman Kumar",
      "photoUrl": "https://lh3.googleusercontent.com/a-/AOh14GgwJ7p76soPZGsLWEkpHlD0LmMqnfJ0ep5y4zeGHw=s64",
      "userId": "01659209315995026941"
     },
     "user_tz": -330
    },
    "id": "LtOfTDXZIe4s"
   },
   "outputs": [],
   "source": [
    "import torch.nn as nn\r\n",
    "import torch.nn.functional as F"
   ]
  },
  {
   "cell_type": "markdown",
   "metadata": {
    "id": "belJxN_rRwGB"
   },
   "source": [
    "Now we finally set out to create a model which will be used to train on this dataset\r\n"
   ]
  },
  {
   "cell_type": "code",
   "execution_count": 36,
   "metadata": {
    "executionInfo": {
     "elapsed": 1157,
     "status": "ok",
     "timestamp": 1610225270024,
     "user": {
      "displayName": "Aman Kumar",
      "photoUrl": "https://lh3.googleusercontent.com/a-/AOh14GgwJ7p76soPZGsLWEkpHlD0LmMqnfJ0ep5y4zeGHw=s64",
      "userId": "01659209315995026941"
     },
     "user_tz": -330
    },
    "id": "YIjGpLtAReae"
   },
   "outputs": [],
   "source": [
    "class ImageClassificationXtended(nn.Module):\r\n",
    "   def training_step(self, batch):\r\n",
    "        images, labels = batch \r\n",
    "        out = self(images)                  \r\n",
    "        loss = F.cross_entropy(out, labels) # using cross-entropy function to calculate loss\r\n",
    "                                            # because we want final answer as probablity \r\n",
    "        return loss\r\n",
    "    \r\n",
    "   def validation_step(self, batch):\r\n",
    "        images, labels = batch \r\n",
    "        out = self(images)                    \r\n",
    "        loss = F.cross_entropy(out, labels)   # Calculate accuracy for better validation\r\n",
    "        acc = accuracy(out, labels)\r\n",
    "        return {'val_loss': loss.detach(), 'val_acc': acc}\r\n",
    "        \r\n",
    "   def validation_epoch_end(self, outputs):\r\n",
    "        batch_losses = [x['val_loss'] for x in outputs]\r\n",
    "        epoch_loss = torch.stack(batch_losses).mean()   # Combining losses from different epochs\r\n",
    "        batch_accs = [x['val_acc'] for x in outputs]\r\n",
    "        epoch_acc = torch.stack(batch_accs).mean()      # Combining accuracy from different epochs\r\n",
    "        return {'val_loss': epoch_loss.item(), 'val_acc': epoch_acc.item()}\r\n",
    "    \r\n",
    "   def epoch_end(self, epoch, result):\r\n",
    "        print(\"Epoch [{}], train_loss: {:.4f}, val_loss: {:.4f}, val_acc: {:.4f}\".format(\r\n",
    "            epoch, result['train_loss'], result['val_loss'], result['val_acc']))\r\n",
    "        \r\n",
    "def accuracy(outputs, labels):\r\n",
    "  _, preds = torch.max(outputs, dim=1)                                    \r\n",
    "  return torch.tensor(torch.sum(preds == labels).item() / len(preds))                \r\n"
   ]
  },
  {
   "cell_type": "code",
   "execution_count": 67,
   "metadata": {
    "executionInfo": {
     "elapsed": 1058,
     "status": "ok",
     "timestamp": 1610226198466,
     "user": {
      "displayName": "Aman Kumar",
      "photoUrl": "https://lh3.googleusercontent.com/a-/AOh14GgwJ7p76soPZGsLWEkpHlD0LmMqnfJ0ep5y4zeGHw=s64",
      "userId": "01659209315995026941"
     },
     "user_tz": -330
    },
    "id": "6NC9Je00ReTf"
   },
   "outputs": [],
   "source": [
    "class MyProjectModel(ImageClassificationXtended):\r\n",
    "    def __init__(self):\r\n",
    "        super().__init__()\r\n",
    "        self.network = nn.Sequential(\r\n",
    "            nn.Conv2d(3, 32, kernel_size=3, padding=1),                             #keeping the padding and stride 1 so as to obtain the output matrix same size as input matrix\r\n",
    "            nn.ReLU(),\r\n",
    "            nn.Conv2d(32, 64, kernel_size=3, stride=1, padding=1),\r\n",
    "            nn.ReLU(),\r\n",
    "            nn.MaxPool2d(2, 2), # output: 64 x 16 x 16                                     #max pool to reduce length and breadth\r\n",
    "\r\n",
    "            nn.Conv2d(64, 128, kernel_size=3, stride=1, padding=1),\r\n",
    "            nn.ReLU(),\r\n",
    "            nn.MaxPool2d(2, 2), # output: 128 x 8 x 8\r\n",
    "\r\n",
    "            nn.Conv2d(128, 256, kernel_size=3, stride=1, padding=1),\r\n",
    "            nn.ReLU(),\r\n",
    "            nn.Conv2d(256, 256, kernel_size=3, stride=1, padding=1),      \r\n",
    "            nn.ReLU(),\r\n",
    "            nn.Conv2d(256, 256, kernel_size=3, stride=1, padding=1),      \r\n",
    "            nn.ReLU(),\r\n",
    "            nn.Conv2d(256, 256, kernel_size=3, stride=1, padding=1),      \r\n",
    "            nn.ReLU(),\r\n",
    "            nn.MaxPool2d(2, 2), # output: 256 x 4 x 4\r\n",
    "\r\n",
    "            nn.Flatten(), \r\n",
    "            nn.Linear(256*4*4, 1024),\r\n",
    "            nn.ReLU(),\r\n",
    "            nn.Linear(1024, 512),\r\n",
    "            nn.ReLU(),\r\n",
    "            nn.Linear(512, 20))\r\n",
    "        \r\n",
    "    def forward(self, xb):\r\n",
    "        return self.network(xb)"
   ]
  },
  {
   "cell_type": "markdown",
   "metadata": {
    "id": "VzDX4zraV1Ot"
   },
   "source": [
    "multiple layers of convu2d and ReLu to introduce non linearity in model \r\n",
    "these multiple layers are used in nn.sequential so that it performs these operations on layers"
   ]
  },
  {
   "cell_type": "code",
   "execution_count": 68,
   "metadata": {
    "executionInfo": {
     "elapsed": 1146,
     "status": "ok",
     "timestamp": 1610226202436,
     "user": {
      "displayName": "Aman Kumar",
      "photoUrl": "https://lh3.googleusercontent.com/a-/AOh14GgwJ7p76soPZGsLWEkpHlD0LmMqnfJ0ep5y4zeGHw=s64",
      "userId": "01659209315995026941"
     },
     "user_tz": -330
    },
    "id": "IIOpFdpaReL0"
   },
   "outputs": [],
   "source": [
    "model = MyProjectModel()\r\n"
   ]
  },
  {
   "cell_type": "markdown",
   "metadata": {
    "id": "Ln79-8gCkvUa"
   },
   "source": [
    "now that we have defined our models, here are some formalities for using the GPU\r\n",
    "also if GPU is not present we will use the CPU"
   ]
  },
  {
   "cell_type": "code",
   "execution_count": 69,
   "metadata": {
    "executionInfo": {
     "elapsed": 1139,
     "status": "ok",
     "timestamp": 1610226205246,
     "user": {
      "displayName": "Aman Kumar",
      "photoUrl": "https://lh3.googleusercontent.com/a-/AOh14GgwJ7p76soPZGsLWEkpHlD0LmMqnfJ0ep5y4zeGHw=s64",
      "userId": "01659209315995026941"
     },
     "user_tz": -330
    },
    "id": "eJzUEkPrReBo"
   },
   "outputs": [],
   "source": [
    "def get_default_device():\r\n",
    "    \"\"\"Pick GPU if available, else CPU\"\"\"\r\n",
    "    if torch.cuda.is_available():\r\n",
    "        return torch.device('cuda')\r\n",
    "    else:\r\n",
    "        return torch.device('cpu')\r\n",
    "    \r\n",
    "def to_device(data, device):\r\n",
    "    \"\"\"Move tensor(s) to chosen device\"\"\"\r\n",
    "    if isinstance(data, (list,tuple)):\r\n",
    "        return [to_device(x, device) for x in data]\r\n",
    "    return data.to(device, non_blocking=True)\r\n",
    "\r\n",
    "class DeviceDataLoader():\r\n",
    "    \"\"\"Wrap a dataloader to move data to a device\"\"\"\r\n",
    "    def __init__(self, dl, device):\r\n",
    "        self.dl = dl\r\n",
    "        self.device = device\r\n",
    "        \r\n",
    "    def __iter__(self):\r\n",
    "        \"\"\"Yield a batch of data after moving it to device\"\"\"\r\n",
    "        for b in self.dl: \r\n",
    "            yield to_device(b, self.device)\r\n",
    "\r\n",
    "    def __len__(self):\r\n",
    "        \"\"\"Number of batches\"\"\"\r\n",
    "        return len(self.dl)"
   ]
  },
  {
   "cell_type": "code",
   "execution_count": 70,
   "metadata": {
    "executionInfo": {
     "elapsed": 1086,
     "status": "ok",
     "timestamp": 1610226207698,
     "user": {
      "displayName": "Aman Kumar",
      "photoUrl": "https://lh3.googleusercontent.com/a-/AOh14GgwJ7p76soPZGsLWEkpHlD0LmMqnfJ0ep5y4zeGHw=s64",
      "userId": "01659209315995026941"
     },
     "user_tz": -330
    },
    "id": "xfc_TlOJltMu"
   },
   "outputs": [],
   "source": [
    "device = get_default_device()"
   ]
  },
  {
   "cell_type": "markdown",
   "metadata": {
    "id": "C9OhVQSTlTfj"
   },
   "source": [
    "following command is used to pass out data loader to the GPU"
   ]
  },
  {
   "cell_type": "code",
   "execution_count": 71,
   "metadata": {
    "executionInfo": {
     "elapsed": 1079,
     "status": "ok",
     "timestamp": 1610226209367,
     "user": {
      "displayName": "Aman Kumar",
      "photoUrl": "https://lh3.googleusercontent.com/a-/AOh14GgwJ7p76soPZGsLWEkpHlD0LmMqnfJ0ep5y4zeGHw=s64",
      "userId": "01659209315995026941"
     },
     "user_tz": -330
    },
    "id": "LfNUFGcYlbc3"
   },
   "outputs": [],
   "source": [
    "training_dl = DeviceDataLoader(training_dl, device)\r\n",
    "validation_dl = DeviceDataLoader(validation_dl, device)\r\n",
    "to_device(model, device);"
   ]
  },
  {
   "cell_type": "markdown",
   "metadata": {
    "id": "-2hTZu39rTHJ"
   },
   "source": [
    "now we start training the model"
   ]
  },
  {
   "cell_type": "code",
   "execution_count": 72,
   "metadata": {
    "executionInfo": {
     "elapsed": 1057,
     "status": "ok",
     "timestamp": 1610226211552,
     "user": {
      "displayName": "Aman Kumar",
      "photoUrl": "https://lh3.googleusercontent.com/a-/AOh14GgwJ7p76soPZGsLWEkpHlD0LmMqnfJ0ep5y4zeGHw=s64",
      "userId": "01659209315995026941"
     },
     "user_tz": -330
    },
    "id": "qdRH8vUtlbUX"
   },
   "outputs": [],
   "source": [
    "@torch.no_grad()\r\n",
    "def evaluate(model, val_loader):\r\n",
    "    model.eval()\r\n",
    "    outputs = [model.validation_step(batch) for batch in val_loader]\r\n",
    "    return model.validation_epoch_end(outputs)\r\n",
    "\r\n",
    "def fit(epochs, lr, model, train_loader, val_loader, opt_func=torch.optim.SGD):\r\n",
    "    history = []\r\n",
    "    optimizer = opt_func(model.parameters(), lr)\r\n",
    "    for epoch in range(epochs):\r\n",
    "        # Training Phase \r\n",
    "        model.train()\r\n",
    "        train_losses = []\r\n",
    "        for batch in train_loader:\r\n",
    "            loss = model.training_step(batch)\r\n",
    "            train_losses.append(loss)\r\n",
    "            loss.backward()\r\n",
    "            optimizer.step()\r\n",
    "            optimizer.zero_grad()\r\n",
    "        # Validation phase\r\n",
    "        result = evaluate(model, val_loader)\r\n",
    "        result['train_loss'] = torch.stack(train_losses).mean().item()\r\n",
    "        model.epoch_end(epoch, result)\r\n",
    "        history.append(result)\r\n",
    "    return history"
   ]
  },
  {
   "cell_type": "markdown",
   "metadata": {
    "id": "wfVsFIvcrzaI"
   },
   "source": [
    "now training for 5 epochs and using Adam as optimiser\r\n"
   ]
  },
  {
   "cell_type": "code",
   "execution_count": 73,
   "metadata": {
    "executionInfo": {
     "elapsed": 1095,
     "status": "ok",
     "timestamp": 1610226214324,
     "user": {
      "displayName": "Aman Kumar",
      "photoUrl": "https://lh3.googleusercontent.com/a-/AOh14GgwJ7p76soPZGsLWEkpHlD0LmMqnfJ0ep5y4zeGHw=s64",
      "userId": "01659209315995026941"
     },
     "user_tz": -330
    },
    "id": "JE9H8sFnrzIJ"
   },
   "outputs": [],
   "source": [
    "num_epochs = 10\r\n",
    "opt_func = torch.optim.Adam\r\n",
    "lr = 0.001"
   ]
  },
  {
   "cell_type": "markdown",
   "metadata": {
    "id": "cT1v9kwgsf-c"
   },
   "source": [
    "before beginning the actual training, taking note of hyperparameters"
   ]
  },
  {
   "cell_type": "code",
   "execution_count": 74,
   "metadata": {
    "colab": {
     "base_uri": "https://localhost:8080/"
    },
    "executionInfo": {
     "elapsed": 1052,
     "status": "ok",
     "timestamp": 1610226218783,
     "user": {
      "displayName": "Aman Kumar",
      "photoUrl": "https://lh3.googleusercontent.com/a-/AOh14GgwJ7p76soPZGsLWEkpHlD0LmMqnfJ0ep5y4zeGHw=s64",
      "userId": "01659209315995026941"
     },
     "user_tz": -330
    },
    "id": "OAcs6cQyry6e",
    "outputId": "33a023cb-5f1a-4cd3-ad4e-83105c6cba92"
   },
   "outputs": [
    {
     "name": "stdout",
     "output_type": "stream",
     "text": [
      "[jovian] Hyperparams logged.\u001b[0m\n"
     ]
    }
   ],
   "source": [
    "jovian.reset()\r\n",
    "jovian.log_hyperparams({\r\n",
    "    'num_epochs': num_epochs,\r\n",
    "    'opt_func': opt_func.__name__,\r\n",
    "    'batch_size': batch_size,\r\n",
    "    'lr': lr,\r\n",
    "})"
   ]
  },
  {
   "cell_type": "markdown",
   "metadata": {
    "id": "jloPWYrys_JS"
   },
   "source": [
    "now training the model and seeing the accuracy "
   ]
  },
  {
   "cell_type": "code",
   "execution_count": 75,
   "metadata": {
    "colab": {
     "base_uri": "https://localhost:8080/"
    },
    "executionInfo": {
     "elapsed": 139295,
     "status": "ok",
     "timestamp": 1610226359952,
     "user": {
      "displayName": "Aman Kumar",
      "photoUrl": "https://lh3.googleusercontent.com/a-/AOh14GgwJ7p76soPZGsLWEkpHlD0LmMqnfJ0ep5y4zeGHw=s64",
      "userId": "01659209315995026941"
     },
     "user_tz": -330
    },
    "id": "Aph0ncZZtF8j",
    "outputId": "6894e267-4496-4364-ecdb-76944b3d25a5"
   },
   "outputs": [
    {
     "name": "stdout",
     "output_type": "stream",
     "text": [
      "Epoch [0], train_loss: 2.7968, val_loss: 2.5442, val_acc: 0.1884\n",
      "Epoch [1], train_loss: 2.4413, val_loss: 2.3242, val_acc: 0.2659\n",
      "Epoch [2], train_loss: 2.2490, val_loss: 2.2115, val_acc: 0.3077\n",
      "Epoch [3], train_loss: 2.0852, val_loss: 2.0461, val_acc: 0.3523\n",
      "Epoch [4], train_loss: 1.9423, val_loss: 1.9362, val_acc: 0.3934\n",
      "Epoch [5], train_loss: 1.8142, val_loss: 1.8693, val_acc: 0.4057\n",
      "Epoch [6], train_loss: 1.7030, val_loss: 1.7933, val_acc: 0.4329\n",
      "Epoch [7], train_loss: 1.5935, val_loss: 1.7634, val_acc: 0.4476\n",
      "Epoch [8], train_loss: 1.4895, val_loss: 1.7289, val_acc: 0.4602\n",
      "Epoch [9], train_loss: 1.3795, val_loss: 1.7498, val_acc: 0.4536\n"
     ]
    }
   ],
   "source": [
    "history = fit(num_epochs, lr, model, training_dl, validation_dl, opt_func)"
   ]
  },
  {
   "cell_type": "markdown",
   "metadata": {
    "id": "SQvIVIiY6b6O"
   },
   "source": [
    "training a few more epochs with a lower leaning rate"
   ]
  },
  {
   "cell_type": "code",
   "execution_count": 76,
   "metadata": {
    "executionInfo": {
     "elapsed": 1078,
     "status": "ok",
     "timestamp": 1610226554652,
     "user": {
      "displayName": "Aman Kumar",
      "photoUrl": "https://lh3.googleusercontent.com/a-/AOh14GgwJ7p76soPZGsLWEkpHlD0LmMqnfJ0ep5y4zeGHw=s64",
      "userId": "01659209315995026941"
     },
     "user_tz": -330
    },
    "id": "AuhT0RwS6tHA"
   },
   "outputs": [],
   "source": [
    "lr = 0.0001"
   ]
  },
  {
   "cell_type": "code",
   "execution_count": 77,
   "metadata": {
    "colab": {
     "base_uri": "https://localhost:8080/"
    },
    "executionInfo": {
     "elapsed": 140032,
     "status": "ok",
     "timestamp": 1610226695227,
     "user": {
      "displayName": "Aman Kumar",
      "photoUrl": "https://lh3.googleusercontent.com/a-/AOh14GgwJ7p76soPZGsLWEkpHlD0LmMqnfJ0ep5y4zeGHw=s64",
      "userId": "01659209315995026941"
     },
     "user_tz": -330
    },
    "id": "DIXRKR4961Rc",
    "outputId": "097e5825-3379-48ef-ca35-3e7ff81d746a"
   },
   "outputs": [
    {
     "name": "stdout",
     "output_type": "stream",
     "text": [
      "Epoch [0], train_loss: 1.0919, val_loss: 1.7171, val_acc: 0.4923\n",
      "Epoch [1], train_loss: 1.0150, val_loss: 1.7410, val_acc: 0.4924\n",
      "Epoch [2], train_loss: 0.9706, val_loss: 1.7625, val_acc: 0.4861\n",
      "Epoch [3], train_loss: 0.9346, val_loss: 1.7873, val_acc: 0.4944\n",
      "Epoch [4], train_loss: 0.8995, val_loss: 1.8269, val_acc: 0.4893\n",
      "Epoch [5], train_loss: 0.8651, val_loss: 1.8528, val_acc: 0.4935\n",
      "Epoch [6], train_loss: 0.8312, val_loss: 1.8720, val_acc: 0.4925\n",
      "Epoch [7], train_loss: 0.7979, val_loss: 1.9198, val_acc: 0.4913\n",
      "Epoch [8], train_loss: 0.7628, val_loss: 1.9526, val_acc: 0.4915\n",
      "Epoch [9], train_loss: 0.7280, val_loss: 1.9822, val_acc: 0.4938\n"
     ]
    }
   ],
   "source": [
    "history = fit(num_epochs, lr, model, training_dl, validation_dl, opt_func)"
   ]
  },
  {
   "cell_type": "markdown",
   "metadata": {
    "id": "9044bB18_gRZ"
   },
   "source": [
    "noting down the metrics"
   ]
  },
  {
   "cell_type": "code",
   "execution_count": 78,
   "metadata": {
    "colab": {
     "base_uri": "https://localhost:8080/"
    },
    "executionInfo": {
     "elapsed": 1114,
     "status": "ok",
     "timestamp": 1610226725772,
     "user": {
      "displayName": "Aman Kumar",
      "photoUrl": "https://lh3.googleusercontent.com/a-/AOh14GgwJ7p76soPZGsLWEkpHlD0LmMqnfJ0ep5y4zeGHw=s64",
      "userId": "01659209315995026941"
     },
     "user_tz": -330
    },
    "id": "0CWDb7OB_a64",
    "outputId": "487225df-1eed-424c-9bec-6c9b32420f96"
   },
   "outputs": [
    {
     "name": "stdout",
     "output_type": "stream",
     "text": [
      "[jovian] Metrics logged.\u001b[0m\n"
     ]
    }
   ],
   "source": [
    "jovian.log_metrics(train_loss=history[-1]['train_loss'], \r\n",
    "                   val_loss=history[-1]['val_loss'], \r\n",
    "                   val_acc=history[-1]['val_acc'])"
   ]
  },
  {
   "cell_type": "markdown",
   "metadata": {
    "id": "jbBw2X10ABsq"
   },
   "source": [
    "graph of accuracy"
   ]
  },
  {
   "cell_type": "code",
   "execution_count": 83,
   "metadata": {
    "executionInfo": {
     "elapsed": 1086,
     "status": "ok",
     "timestamp": 1610226943904,
     "user": {
      "displayName": "Aman Kumar",
      "photoUrl": "https://lh3.googleusercontent.com/a-/AOh14GgwJ7p76soPZGsLWEkpHlD0LmMqnfJ0ep5y4zeGHw=s64",
      "userId": "01659209315995026941"
     },
     "user_tz": -330
    },
    "id": "X8xYlKkkABU3"
   },
   "outputs": [],
   "source": [
    "def plot_accuracies(history):\r\n",
    "    accuracies = [x['val_acc'] for x in history]\r\n",
    "    plt.plot(accuracies, '-x')\r\n",
    "    plt.xlabel('epoch')\r\n",
    "    plt.ylabel('accuracy')\r\n",
    "    plt.title('Accuracy vs. No. of epochs');"
   ]
  },
  {
   "cell_type": "code",
   "execution_count": 84,
   "metadata": {
    "colab": {
     "base_uri": "https://localhost:8080/",
     "height": 295
    },
    "executionInfo": {
     "elapsed": 1196,
     "status": "ok",
     "timestamp": 1610226945687,
     "user": {
      "displayName": "Aman Kumar",
      "photoUrl": "https://lh3.googleusercontent.com/a-/AOh14GgwJ7p76soPZGsLWEkpHlD0LmMqnfJ0ep5y4zeGHw=s64",
      "userId": "01659209315995026941"
     },
     "user_tz": -330
    },
    "id": "JrnAfccsAP4-",
    "outputId": "5182ee63-2a51-4807-d586-efe636519e11"
   },
   "outputs": [
    {
     "data": {
      "image/png": "[encoded data removed]",
      "text/plain": [
       "<Figure size 432x288 with 1 Axes>"
      ]
     },
     "metadata": {
      "tags": []
     },
     "output_type": "display_data"
    }
   ],
   "source": [
    "plot_accuracies(history)"
   ]
  },
  {
   "cell_type": "markdown",
   "metadata": {
    "id": "J1Ja1QnH_6tC"
   },
   "source": [
    "now testing the model with test dataset"
   ]
  },
  {
   "cell_type": "code",
   "execution_count": 85,
   "metadata": {
    "executionInfo": {
     "elapsed": 1120,
     "status": "ok",
     "timestamp": 1610226987761,
     "user": {
      "displayName": "Aman Kumar",
      "photoUrl": "https://lh3.googleusercontent.com/a-/AOh14GgwJ7p76soPZGsLWEkpHlD0LmMqnfJ0ep5y4zeGHw=s64",
      "userId": "01659209315995026941"
     },
     "user_tz": -330
    },
    "id": "qb4ThUno_azM"
   },
   "outputs": [],
   "source": [
    "test_dataset = ImageFolder(data_dir+'/test', transform=ToTensor())"
   ]
  },
  {
   "cell_type": "markdown",
   "metadata": {
    "id": "r5oOh4biAiV1"
   },
   "source": [
    "making function for prediction"
   ]
  },
  {
   "cell_type": "code",
   "execution_count": 90,
   "metadata": {
    "executionInfo": {
     "elapsed": 1086,
     "status": "ok",
     "timestamp": 1610227047124,
     "user": {
      "displayName": "Aman Kumar",
      "photoUrl": "https://lh3.googleusercontent.com/a-/AOh14GgwJ7p76soPZGsLWEkpHlD0LmMqnfJ0ep5y4zeGHw=s64",
      "userId": "01659209315995026941"
     },
     "user_tz": -330
    },
    "id": "0mlcSTgk_apK"
   },
   "outputs": [],
   "source": [
    "def predict_image(img, model):\r\n",
    "    # Convert to a batch of 1\r\n",
    "    xb = to_device(img.unsqueeze(0), device)\r\n",
    "    # Get predictions from model\r\n",
    "    yb = model(xb)\r\n",
    "    # Pick index with highest probability\r\n",
    "    _, preds  = torch.max(yb, dim=1)\r\n",
    "    # Retrieve the class label\r\n",
    "    return dataset.classes[preds[0].item()]"
   ]
  },
  {
   "cell_type": "code",
   "execution_count": 91,
   "metadata": {
    "colab": {
     "base_uri": "https://localhost:8080/",
     "height": 283
    },
    "executionInfo": {
     "elapsed": 1165,
     "status": "ok",
     "timestamp": 1610227076310,
     "user": {
      "displayName": "Aman Kumar",
      "photoUrl": "https://lh3.googleusercontent.com/a-/AOh14GgwJ7p76soPZGsLWEkpHlD0LmMqnfJ0ep5y4zeGHw=s64",
      "userId": "01659209315995026941"
     },
     "user_tz": -330
    },
    "id": "lWbpjndnAyYi",
    "outputId": "ea824d30-5f2b-4364-f821-2b9f83c1702f"
   },
   "outputs": [
    {
     "name": "stdout",
     "output_type": "stream",
     "text": [
      "Label: aquatic_mammals , Predicted: aquatic_mammals\n"
     ]
    },
    {
     "data": {
      "image/png": "[encoded data removed]",
      "text/plain": [
       "<Figure size 432x288 with 1 Axes>"
      ]
     },
     "metadata": {
      "tags": []
     },
     "output_type": "display_data"
    }
   ],
   "source": [
    "img, label = test_dataset[80]\r\n",
    "plt.imshow(img.permute(1, 2, 0))\r\n",
    "print('Label:', dataset.classes[label], ', Predicted:', predict_image(img, model))"
   ]
  },
  {
   "cell_type": "code",
   "execution_count": 92,
   "metadata": {
    "colab": {
     "base_uri": "https://localhost:8080/",
     "height": 283
    },
    "executionInfo": {
     "elapsed": 1104,
     "status": "ok",
     "timestamp": 1610227093440,
     "user": {
      "displayName": "Aman Kumar",
      "photoUrl": "https://lh3.googleusercontent.com/a-/AOh14GgwJ7p76soPZGsLWEkpHlD0LmMqnfJ0ep5y4zeGHw=s64",
      "userId": "01659209315995026941"
     },
     "user_tz": -330
    },
    "id": "SvqUZ03YA2l7",
    "outputId": "861cb04e-d045-4085-9372-4ceb2df6c85a"
   },
   "outputs": [
    {
     "name": "stdout",
     "output_type": "stream",
     "text": [
      "Label: aquatic_mammals , Predicted: household_electrical_devices\n"
     ]
    },
    {
     "data": {
      "image/png": "[encoded data removed]",
      "text/plain": [
       "<Figure size 432x288 with 1 Axes>"
      ]
     },
     "metadata": {
      "tags": []
     },
     "output_type": "display_data"
    }
   ],
   "source": [
    "img, label = test_dataset[200]\r\n",
    "plt.imshow(img.permute(1, 2, 0))\r\n",
    "print('Label:', dataset.classes[label], ', Predicted:', predict_image(img, model))"
   ]
  },
  {
   "cell_type": "code",
   "execution_count": 93,
   "metadata": {
    "colab": {
     "base_uri": "https://localhost:8080/",
     "height": 283
    },
    "executionInfo": {
     "elapsed": 1106,
     "status": "ok",
     "timestamp": 1610227118857,
     "user": {
      "displayName": "Aman Kumar",
      "photoUrl": "https://lh3.googleusercontent.com/a-/AOh14GgwJ7p76soPZGsLWEkpHlD0LmMqnfJ0ep5y4zeGHw=s64",
      "userId": "01659209315995026941"
     },
     "user_tz": -330
    },
    "id": "39a_beg9A63f",
    "outputId": "73edd71e-9b72-4e0b-92a8-1b3d2d2b6bc0"
   },
   "outputs": [
    {
     "name": "stdout",
     "output_type": "stream",
     "text": [
      "Label: household_furniture , Predicted: household_furniture\n"
     ]
    },
    {
     "data": {
      "image/png": "[encoded data removed]",
      "text/plain": [
       "<Figure size 432x288 with 1 Axes>"
      ]
     },
     "metadata": {
      "tags": []
     },
     "output_type": "display_data"
    }
   ],
   "source": [
    "img, label = test_dataset[3211]\r\n",
    "plt.imshow(img.permute(1, 2, 0))\r\n",
    "print('Label:', dataset.classes[label], ', Predicted:', predict_image(img, model))"
   ]
  },
  {
   "cell_type": "code",
   "execution_count": 94,
   "metadata": {
    "colab": {
     "base_uri": "https://localhost:8080/",
     "height": 283
    },
    "executionInfo": {
     "elapsed": 1137,
     "status": "ok",
     "timestamp": 1610227133575,
     "user": {
      "displayName": "Aman Kumar",
      "photoUrl": "https://lh3.googleusercontent.com/a-/AOh14GgwJ7p76soPZGsLWEkpHlD0LmMqnfJ0ep5y4zeGHw=s64",
      "userId": "01659209315995026941"
     },
     "user_tz": -330
    },
    "id": "mrfFraLzBAjC",
    "outputId": "5e837d09-e76e-420e-9fd6-8292eeaf35dd"
   },
   "outputs": [
    {
     "name": "stdout",
     "output_type": "stream",
     "text": [
      "Label: fish , Predicted: fish\n"
     ]
    },
    {
     "data": {
      "image/png": "[encoded data removed]",
      "text/plain": [
       "<Figure size 432x288 with 1 Axes>"
      ]
     },
     "metadata": {
      "tags": []
     },
     "output_type": "display_data"
    }
   ],
   "source": [
    "img, label = test_dataset[999]\r\n",
    "plt.imshow(img.permute(1, 2, 0))\r\n",
    "print('Label:', dataset.classes[label], ', Predicted:', predict_image(img, model))"
   ]
  },
  {
   "cell_type": "markdown",
   "metadata": {
    "id": "MTAzx4BOBOMf"
   },
   "source": [
    "Now look at the final loss and accuracy and taking note of them"
   ]
  },
  {
   "cell_type": "code",
   "execution_count": 95,
   "metadata": {
    "colab": {
     "base_uri": "https://localhost:8080/"
    },
    "executionInfo": {
     "elapsed": 4548,
     "status": "ok",
     "timestamp": 1610227204071,
     "user": {
      "displayName": "Aman Kumar",
      "photoUrl": "https://lh3.googleusercontent.com/a-/AOh14GgwJ7p76soPZGsLWEkpHlD0LmMqnfJ0ep5y4zeGHw=s64",
      "userId": "01659209315995026941"
     },
     "user_tz": -330
    },
    "id": "Fpy8GC5IBR8t",
    "outputId": "ccdef607-efcd-4d41-a4f2-13eb515790b3"
   },
   "outputs": [
    {
     "data": {
      "text/plain": [
       "{'val_acc': 0.486328125, 'val_loss': 2.014551877975464}"
      ]
     },
     "execution_count": 95,
     "metadata": {
      "tags": []
     },
     "output_type": "execute_result"
    }
   ],
   "source": [
    "test_loader = DeviceDataLoader(DataLoader(test_dataset, batch_size*2), device)\r\n",
    "result = evaluate(model, test_loader)\r\n",
    "result"
   ]
  },
  {
   "cell_type": "code",
   "execution_count": 96,
   "metadata": {
    "colab": {
     "base_uri": "https://localhost:8080/"
    },
    "executionInfo": {
     "elapsed": 1086,
     "status": "ok",
     "timestamp": 1610227249204,
     "user": {
      "displayName": "Aman Kumar",
      "photoUrl": "https://lh3.googleusercontent.com/a-/AOh14GgwJ7p76soPZGsLWEkpHlD0LmMqnfJ0ep5y4zeGHw=s64",
      "userId": "01659209315995026941"
     },
     "user_tz": -330
    },
    "id": "aj8DYCtjBdzt",
    "outputId": "2bc18cf7-2bd4-456f-8f43-7a7a09eb4588"
   },
   "outputs": [
    {
     "name": "stdout",
     "output_type": "stream",
     "text": [
      "[jovian] Metrics logged.\u001b[0m\n"
     ]
    }
   ],
   "source": [
    "jovian.log_metrics(test_loss=result['val_loss'], test_acc=result['val_acc'])"
   ]
  },
  {
   "cell_type": "markdown",
   "metadata": {
    "id": "gq3i4bS7B1EE"
   },
   "source": [
    "Saving the model and its weights"
   ]
  },
  {
   "cell_type": "code",
   "execution_count": 97,
   "metadata": {
    "executionInfo": {
     "elapsed": 1136,
     "status": "ok",
     "timestamp": 1610227426967,
     "user": {
      "displayName": "Aman Kumar",
      "photoUrl": "https://lh3.googleusercontent.com/a-/AOh14GgwJ7p76soPZGsLWEkpHlD0LmMqnfJ0ep5y4zeGHw=s64",
      "userId": "01659209315995026941"
     },
     "user_tz": -330
    },
    "id": "z1snOewvB43A"
   },
   "outputs": [],
   "source": [
    "torch.save(model.state_dict(), 'cifar100-cnn-aman.pth')"
   ]
  },
  {
   "cell_type": "code",
   "execution_count": null,
   "metadata": {
    "id": "8uBI3U8ovaEt"
   },
   "outputs": [],
   "source": [
    "!pip install jovian --upgrade --quiet"
   ]
  },
  {
   "cell_type": "code",
   "execution_count": 88,
   "metadata": {
    "executionInfo": {
     "elapsed": 1183,
     "status": "ok",
     "timestamp": 1610227037477,
     "user": {
      "displayName": "Aman Kumar",
      "photoUrl": "https://lh3.googleusercontent.com/a-/AOh14GgwJ7p76soPZGsLWEkpHlD0LmMqnfJ0ep5y4zeGHw=s64",
      "userId": "01659209315995026941"
     },
     "user_tz": -330
    },
    "id": "RaWGMOLGBz77"
   },
   "outputs": [],
   "source": [
    "import jovian"
   ]
  },
  {
   "cell_type": "code",
   "execution_count": 101,
   "metadata": {
    "colab": {
     "base_uri": "https://localhost:8080/",
     "height": 330
    },
    "executionInfo": {
     "elapsed": 2621,
     "status": "error",
     "timestamp": 1610228490681,
     "user": {
      "displayName": "Aman Kumar",
      "photoUrl": "https://lh3.googleusercontent.com/a-/AOh14GgwJ7p76soPZGsLWEkpHlD0LmMqnfJ0ep5y4zeGHw=s64",
      "userId": "01659209315995026941"
     },
     "user_tz": -330
    },
    "id": "za197M3HvaEu",
    "outputId": "acc2213f-f8dd-47ee-d60c-a424fb2065c5"
   },
   "outputs": [
    {
     "name": "stdout",
     "output_type": "stream",
     "text": [
      "[jovian] Detected Colab notebook...\u001b[0m\n",
      "[jovian] Uploading colab notebook to Jovian...\u001b[0m\n"
     ]
    },
    {
     "ename": "ApiError",
     "evalue": "ignored",
     "output_type": "error",
     "traceback": [
      "\u001b[0;31m---------------------------------------------------------------------------\u001b[0m",
      "\u001b[0;31mApiError\u001b[0m                                  Traceback (most recent call last)",
      "\u001b[0;32m<ipython-input-101-70bbcde94589>\u001b[0m in \u001b[0;36m<module>\u001b[0;34m()\u001b[0m\n\u001b[0;32m----> 1\u001b[0;31m \u001b[0mjovian\u001b[0m\u001b[0;34m.\u001b[0m\u001b[0mcommit\u001b[0m\u001b[0;34m(\u001b[0m\u001b[0mproject\u001b[0m\u001b[0;34m=\u001b[0m\u001b[0mproject_name\u001b[0m\u001b[0;34m)\u001b[0m\u001b[0;34m\u001b[0m\u001b[0;34m\u001b[0m\u001b[0m\n\u001b[0m",
      "\u001b[0;32m/usr/local/lib/python3.6/dist-packages/jovian/utils/commit.py\u001b[0m in \u001b[0;36mcommit\u001b[0;34m(message, files, outputs, environment, privacy, filename, project, new_project, git_commit, git_message, **kwargs)\u001b[0m\n\u001b[1;32m    134\u001b[0m             \u001b[0;32mreturn\u001b[0m\u001b[0;34m\u001b[0m\u001b[0;34m\u001b[0m\u001b[0m\n\u001b[1;32m    135\u001b[0m \u001b[0;34m\u001b[0m\u001b[0m\n\u001b[0;32m--> 136\u001b[0;31m         \u001b[0mres\u001b[0m \u001b[0;34m=\u001b[0m \u001b[0mperform_colab_commit\u001b[0m\u001b[0;34m(\u001b[0m\u001b[0mproject\u001b[0m\u001b[0;34m,\u001b[0m \u001b[0mprivacy\u001b[0m\u001b[0;34m)\u001b[0m\u001b[0;34m\u001b[0m\u001b[0;34m\u001b[0m\u001b[0m\n\u001b[0m\u001b[1;32m    137\u001b[0m         \u001b[0mslug\u001b[0m\u001b[0;34m,\u001b[0m \u001b[0musername\u001b[0m\u001b[0;34m,\u001b[0m \u001b[0mversion\u001b[0m\u001b[0;34m,\u001b[0m \u001b[0mtitle\u001b[0m \u001b[0;34m=\u001b[0m \u001b[0mres\u001b[0m\u001b[0;34m[\u001b[0m\u001b[0;34m'slug'\u001b[0m\u001b[0;34m]\u001b[0m\u001b[0;34m,\u001b[0m \u001b[0mres\u001b[0m\u001b[0;34m[\u001b[0m\u001b[0;34m'owner'\u001b[0m\u001b[0;34m]\u001b[0m\u001b[0;34m[\u001b[0m\u001b[0;34m'username'\u001b[0m\u001b[0;34m]\u001b[0m\u001b[0;34m,\u001b[0m \u001b[0mres\u001b[0m\u001b[0;34m[\u001b[0m\u001b[0;34m'version'\u001b[0m\u001b[0;34m]\u001b[0m\u001b[0;34m,\u001b[0m \u001b[0mres\u001b[0m\u001b[0;34m[\u001b[0m\u001b[0;34m'title'\u001b[0m\u001b[0;34m]\u001b[0m\u001b[0;34m\u001b[0m\u001b[0;34m\u001b[0m\u001b[0m\n\u001b[1;32m    138\u001b[0m \u001b[0;34m\u001b[0m\u001b[0m\n",
      "\u001b[0;32m/usr/local/lib/python3.6/dist-packages/jovian/utils/colab.py\u001b[0m in \u001b[0;36mperform_colab_commit\u001b[0;34m(project, privacy)\u001b[0m\n\u001b[1;32m     45\u001b[0m     \u001b[0;32mif\u001b[0m \u001b[0mres\u001b[0m\u001b[0;34m.\u001b[0m\u001b[0mstatus_code\u001b[0m \u001b[0;34m==\u001b[0m \u001b[0;36m200\u001b[0m\u001b[0;34m:\u001b[0m\u001b[0;34m\u001b[0m\u001b[0;34m\u001b[0m\u001b[0m\n\u001b[1;32m     46\u001b[0m         \u001b[0;32mreturn\u001b[0m \u001b[0mres\u001b[0m\u001b[0;34m.\u001b[0m\u001b[0mjson\u001b[0m\u001b[0;34m(\u001b[0m\u001b[0;34m)\u001b[0m\u001b[0;34m[\u001b[0m\u001b[0;34m'data'\u001b[0m\u001b[0;34m]\u001b[0m\u001b[0;34m\u001b[0m\u001b[0;34m\u001b[0m\u001b[0m\n\u001b[0;32m---> 47\u001b[0;31m     \u001b[0;32mraise\u001b[0m \u001b[0mApiError\u001b[0m\u001b[0;34m(\u001b[0m\u001b[0;34m'Colab commit failed: '\u001b[0m \u001b[0;34m+\u001b[0m \u001b[0mpretty\u001b[0m\u001b[0;34m(\u001b[0m\u001b[0mres\u001b[0m\u001b[0;34m)\u001b[0m\u001b[0;34m)\u001b[0m\u001b[0;34m\u001b[0m\u001b[0;34m\u001b[0m\u001b[0m\n\u001b[0m",
      "\u001b[0;31mApiError\u001b[0m: Colab commit failed: (HTTP 500) The server encountered an internal error and was unable to complete your request. Either the server is overloaded or there is an error in the application."
     ]
    }
   ],
   "source": [
    "jovian.commit(project=project_name)"
   ]
  },
  {
   "cell_type": "markdown",
   "metadata": {
    "id": "ah0-vb-vGG_D"
   },
   "source": [
    "#Conclusion and What i learnt"
   ]
  },
  {
   "cell_type": "markdown",
   "metadata": {
    "id": "BXB0ZPTCCmMd"
   },
   "source": [
    "During the course of these 6-8 weeks i have leaned a lot \r\n",
    "starting with first class i leaned linear regression, that was the day when i first realized the real meaning of machine leaning and the fact that machine could predict yeild of apples totally blew my mind and gave me goosebumps\r\n",
    "\r\n",
    "next i learned logistic regression and learnt how images can be treated and fec=d as matrices and had my first experience with the Mnist class.\r\n",
    "\r\n",
    "Next class was on nueral network in which we added multiple layers between output and hidden layer and used it to create non linearity.We also saw how we can move our data to GPU in this module\r\n",
    "\r\n",
    "the next class was based on CNN on which my project is based too\r\n",
    "CNN is the most interesting thing i like in whole of this course.\r\n",
    "The idea of kernel sliding over the input matrix to capture relations is just too much of an amazing concept.\r\n",
    "\r\n",
    "Next lesson was more about improving accuracy of model and dealing with the problem of it not doing good on Test and Validation Dataset.\r\n",
    "\r\n",
    "Last lecture was also an amazing one and second best after CNN lecture. We saw how to generate anime faces, i am looking forward to use same tech to generate pokemon faces.\r\n",
    "\r\n",
    "Very very thanks to Jovian for providing me this opportunity to learn so much that too free of cost.\r\n",
    "Also cheers for our teacher Aakash sir who BTW i am a fan now,\r\n",
    "he taught so so well with patience, going over everything and explaining everything.\r\n",
    "I never thought i would learn this much in 6-8 weeks.\r\n",
    "Again thank you so much Jovian\r\n"
   ]
  }
 ],
 "metadata": {
  "accelerator": "GPU",
  "colab": {
   "collapsed_sections": [],
   "name": "blank-starter.ipynb",
   "provenance": []
  },
  "language_info": {
   "codemirror_mode": {
    "name": "ipython",
    "version": 3
   },
   "file_extension": ".py",
   "mimetype": "text/x-python",
   "name": "python",
   "nbconvert_exporter": "python",
   "pygments_lexer": "ipython3",
   "version": "3.7.6"
  },
  "widgets": {
   "application/vnd.jupyter.widget-state+json": {
    "91112aca966848abad4616bb972b0d28": {
     "model_module": "@jupyter-widgets/base",
     "model_name": "LayoutModel",
     "state": {
      "_model_module": "@jupyter-widgets/base",
      "_model_module_version": "1.2.0",
      "_model_name": "LayoutModel",
      "_view_count": null,
      "_view_module": "@jupyter-widgets/base",
      "_view_module_version": "1.2.0",
      "_view_name": "LayoutView",
      "align_content": null,
      "align_items": null,
      "align_self": null,
      "border": null,
      "bottom": null,
      "display": null,
      "flex": null,
      "flex_flow": null,
      "grid_area": null,
      "grid_auto_columns": null,
      "grid_auto_flow": null,
      "grid_auto_rows": null,
      "grid_column": null,
      "grid_gap": null,
      "grid_row": null,
      "grid_template_areas": null,
      "grid_template_columns": null,
      "grid_template_rows": null,
      "height": null,
      "justify_content": null,
      "justify_items": null,
      "left": null,
      "margin": null,
      "max_height": null,
      "max_width": null,
      "min_height": null,
      "min_width": null,
      "object_fit": null,
      "object_position": null,
      "order": null,
      "overflow": null,
      "overflow_x": null,
      "overflow_y": null,
      "padding": null,
      "right": null,
      "top": null,
      "visibility": null,
      "width": null
     }
    },
    "980167977d794e8b859980647b1519dd": {
     "model_module": "@jupyter-widgets/base",
     "model_name": "LayoutModel",
     "state": {
      "_model_module": "@jupyter-widgets/base",
      "_model_module_version": "1.2.0",
      "_model_name": "LayoutModel",
      "_view_count": null,
      "_view_module": "@jupyter-widgets/base",
      "_view_module_version": "1.2.0",
      "_view_name": "LayoutView",
      "align_content": null,
      "align_items": null,
      "align_self": null,
      "border": null,
      "bottom": null,
      "display": null,
      "flex": null,
      "flex_flow": null,
      "grid_area": null,
      "grid_auto_columns": null,
      "grid_auto_flow": null,
      "grid_auto_rows": null,
      "grid_column": null,
      "grid_gap": null,
      "grid_row": null,
      "grid_template_areas": null,
      "grid_template_columns": null,
      "grid_template_rows": null,
      "height": null,
      "justify_content": null,
      "justify_items": null,
      "left": null,
      "margin": null,
      "max_height": null,
      "max_width": null,
      "min_height": null,
      "min_width": null,
      "object_fit": null,
      "object_position": null,
      "order": null,
      "overflow": null,
      "overflow_x": null,
      "overflow_y": null,
      "padding": null,
      "right": null,
      "top": null,
      "visibility": null,
      "width": null
     }
    },
    "a706c9bfe9d94a91ad7af42c801a6f4f": {
     "model_module": "@jupyter-widgets/base",
     "model_name": "LayoutModel",
     "state": {
      "_model_module": "@jupyter-widgets/base",
      "_model_module_version": "1.2.0",
      "_model_name": "LayoutModel",
      "_view_count": null,
      "_view_module": "@jupyter-widgets/base",
      "_view_module_version": "1.2.0",
      "_view_name": "LayoutView",
      "align_content": null,
      "align_items": null,
      "align_self": null,
      "border": null,
      "bottom": null,
      "display": null,
      "flex": null,
      "flex_flow": null,
      "grid_area": null,
      "grid_auto_columns": null,
      "grid_auto_flow": null,
      "grid_auto_rows": null,
      "grid_column": null,
      "grid_gap": null,
      "grid_row": null,
      "grid_template_areas": null,
      "grid_template_columns": null,
      "grid_template_rows": null,
      "height": null,
      "justify_content": null,
      "justify_items": null,
      "left": null,
      "margin": null,
      "max_height": null,
      "max_width": null,
      "min_height": null,
      "min_width": null,
      "object_fit": null,
      "object_position": null,
      "order": null,
      "overflow": null,
      "overflow_x": null,
      "overflow_y": null,
      "padding": null,
      "right": null,
      "top": null,
      "visibility": null,
      "width": null
     }
    },
    "ca36c6f4b9244197a701061392f64669": {
     "model_module": "@jupyter-widgets/controls",
     "model_name": "HBoxModel",
     "state": {
      "_dom_classes": [],
      "_model_module": "@jupyter-widgets/controls",
      "_model_module_version": "1.5.0",
      "_model_name": "HBoxModel",
      "_view_count": null,
      "_view_module": "@jupyter-widgets/controls",
      "_view_module_version": "1.5.0",
      "_view_name": "HBoxView",
      "box_style": "",
      "children": [
       "IPY_MODEL_f3feb908dbc44a96bd12ab02e90daf5c",
       "IPY_MODEL_cf0044e165744f1699bad74887f770a1"
      ],
      "layout": "IPY_MODEL_91112aca966848abad4616bb972b0d28"
     }
    },
    "cf0044e165744f1699bad74887f770a1": {
     "model_module": "@jupyter-widgets/controls",
     "model_name": "HTMLModel",
     "state": {
      "_dom_classes": [],
      "_model_module": "@jupyter-widgets/controls",
      "_model_module_version": "1.5.0",
      "_model_name": "HTMLModel",
      "_view_count": null,
      "_view_module": "@jupyter-widgets/controls",
      "_view_module_version": "1.5.0",
      "_view_name": "HTMLView",
      "description": "",
      "description_tooltip": null,
      "layout": "IPY_MODEL_a706c9bfe9d94a91ad7af42c801a6f4f",
      "placeholder": "​",
      "style": "IPY_MODEL_f6695d61a9eb4840b9f12227a6c9fbb6",
      "value": " 169172992/? [00:08&lt;00:00, 18879485.97it/s]"
     }
    },
    "f2bef722d80745c18f596edb7dee8c53": {
     "model_module": "@jupyter-widgets/controls",
     "model_name": "ProgressStyleModel",
     "state": {
      "_model_module": "@jupyter-widgets/controls",
      "_model_module_version": "1.5.0",
      "_model_name": "ProgressStyleModel",
      "_view_count": null,
      "_view_module": "@jupyter-widgets/base",
      "_view_module_version": "1.2.0",
      "_view_name": "StyleView",
      "bar_color": null,
      "description_width": "initial"
     }
    },
    "f3feb908dbc44a96bd12ab02e90daf5c": {
     "model_module": "@jupyter-widgets/controls",
     "model_name": "FloatProgressModel",
     "state": {
      "_dom_classes": [],
      "_model_module": "@jupyter-widgets/controls",
      "_model_module_version": "1.5.0",
      "_model_name": "FloatProgressModel",
      "_view_count": null,
      "_view_module": "@jupyter-widgets/controls",
      "_view_module_version": "1.5.0",
      "_view_name": "ProgressView",
      "bar_style": "success",
      "description": "",
      "description_tooltip": null,
      "layout": "IPY_MODEL_980167977d794e8b859980647b1519dd",
      "max": 1,
      "min": 0,
      "orientation": "horizontal",
      "style": "IPY_MODEL_f2bef722d80745c18f596edb7dee8c53",
      "value": 1
     }
    },
    "f6695d61a9eb4840b9f12227a6c9fbb6": {
     "model_module": "@jupyter-widgets/controls",
     "model_name": "DescriptionStyleModel",
     "state": {
      "_model_module": "@jupyter-widgets/controls",
      "_model_module_version": "1.5.0",
      "_model_name": "DescriptionStyleModel",
      "_view_count": null,
      "_view_module": "@jupyter-widgets/base",
      "_view_module_version": "1.2.0",
      "_view_name": "StyleView",
      "description_width": ""
     }
    }
   }
  }
 },
 "nbformat": 4,
 "nbformat_minor": 0
}